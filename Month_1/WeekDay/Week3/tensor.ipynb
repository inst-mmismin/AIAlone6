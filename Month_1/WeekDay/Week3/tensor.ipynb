{
 "cells": [
  {
   "cell_type": "code",
   "execution_count": 2,
   "metadata": {},
   "outputs": [],
   "source": [
    "import numpy as np \n",
    "import torch "
   ]
  },
  {
   "cell_type": "code",
   "execution_count": 3,
   "metadata": {},
   "outputs": [],
   "source": [
    "a = np.array([1,2,3,4])"
   ]
  },
  {
   "cell_type": "code",
   "execution_count": 4,
   "metadata": {},
   "outputs": [
    {
     "data": {
      "text/plain": [
       "array([1, 2, 3, 4])"
      ]
     },
     "execution_count": 4,
     "metadata": {},
     "output_type": "execute_result"
    }
   ],
   "source": [
    "a"
   ]
  },
  {
   "cell_type": "code",
   "execution_count": 5,
   "metadata": {},
   "outputs": [],
   "source": [
    "b = torch.from_numpy(a)"
   ]
  },
  {
   "cell_type": "code",
   "execution_count": 6,
   "metadata": {},
   "outputs": [
    {
     "data": {
      "text/plain": [
       "tensor([1, 2, 3, 4])"
      ]
     },
     "execution_count": 6,
     "metadata": {},
     "output_type": "execute_result"
    }
   ],
   "source": [
    "b"
   ]
  },
  {
   "cell_type": "code",
   "execution_count": 8,
   "metadata": {},
   "outputs": [],
   "source": [
    "b[0] = 5"
   ]
  },
  {
   "cell_type": "code",
   "execution_count": 9,
   "metadata": {},
   "outputs": [
    {
     "data": {
      "text/plain": [
       "tensor([5, 2, 3, 4])"
      ]
     },
     "execution_count": 9,
     "metadata": {},
     "output_type": "execute_result"
    }
   ],
   "source": [
    "b"
   ]
  },
  {
   "cell_type": "code",
   "execution_count": 10,
   "metadata": {},
   "outputs": [
    {
     "data": {
      "text/plain": [
       "array([5, 2, 3, 4])"
      ]
     },
     "execution_count": 10,
     "metadata": {},
     "output_type": "execute_result"
    }
   ],
   "source": [
    "a"
   ]
  },
  {
   "cell_type": "code",
   "execution_count": 11,
   "metadata": {},
   "outputs": [],
   "source": [
    "c = np.array([1,2,3,4])\n",
    "d = torch.from_numpy(c.copy())"
   ]
  },
  {
   "cell_type": "code",
   "execution_count": 12,
   "metadata": {},
   "outputs": [
    {
     "name": "stdout",
     "output_type": "stream",
     "text": [
      "[1 2 3 4] tensor([1, 2, 3, 4])\n"
     ]
    }
   ],
   "source": [
    "print(c, d)"
   ]
  },
  {
   "cell_type": "code",
   "execution_count": 13,
   "metadata": {},
   "outputs": [
    {
     "name": "stdout",
     "output_type": "stream",
     "text": [
      "[1 2 3 4] tensor([66,  2,  3,  4])\n"
     ]
    }
   ],
   "source": [
    "d[0]= 66\n",
    "print(c, d)"
   ]
  },
  {
   "cell_type": "code",
   "execution_count": 36,
   "metadata": {},
   "outputs": [
    {
     "name": "stdout",
     "output_type": "stream",
     "text": [
      "torch.Size([3, 6, 5])\n"
     ]
    }
   ],
   "source": [
    "a = torch.randn((3, 6, 5)) \n",
    "print(a.shape)"
   ]
  },
  {
   "cell_type": "code",
   "execution_count": 37,
   "metadata": {},
   "outputs": [
    {
     "name": "stdout",
     "output_type": "stream",
     "text": [
      "torch.Size([30, 3])\n",
      "torch.Size([30, 3])\n",
      "torch.Size([3, 6, 5])\n"
     ]
    }
   ],
   "source": [
    "b = a.reshape(-1, 3)\n",
    "print(b.shape)\n",
    "c = a.view(-1, 3)\n",
    "print(c.shape)\n",
    "print(a.shape)"
   ]
  },
  {
   "cell_type": "code",
   "execution_count": 38,
   "metadata": {},
   "outputs": [
    {
     "data": {
      "text/plain": [
       "tensor([[[ 0.6230, -0.2535, -0.6327,  0.2179,  0.1705],\n",
       "         [-0.1252, -0.8863, -0.2784,  1.4400, -0.1844],\n",
       "         [-0.5756, -0.3435, -0.4829, -0.1762, -0.4022],\n",
       "         [-0.2411, -0.3408, -0.5830, -0.8472,  0.2182],\n",
       "         [ 0.2920,  0.8156, -0.2062,  0.5853, -0.1402],\n",
       "         [ 0.0669,  1.2398, -1.2058, -0.6404,  0.5988]],\n",
       "\n",
       "        [[ 0.5643, -1.9855, -2.0185,  0.1343,  1.2408],\n",
       "         [ 0.7136,  1.5999,  0.6695, -0.6390,  0.4396],\n",
       "         [-1.6188,  1.4857,  1.3700, -2.8871,  0.3280],\n",
       "         [ 0.7138, -0.8965, -0.5238,  1.1967, -0.0602],\n",
       "         [-0.3375, -0.1900, -1.7171, -0.2760, -1.8637],\n",
       "         [ 0.9588,  0.9568, -0.1394, -0.4637,  0.0655]],\n",
       "\n",
       "        [[ 1.0389,  0.3920,  0.5829,  1.2512,  0.0149],\n",
       "         [ 0.0528,  0.9716,  0.2211, -0.8725,  0.5200],\n",
       "         [-0.7701, -0.7006,  1.1537,  0.0054, -0.5289],\n",
       "         [ 0.4683, -0.5446, -0.3292, -0.9832, -0.0469],\n",
       "         [-0.6551, -0.2791,  0.3822, -0.8476,  1.3836],\n",
       "         [-1.0871,  0.8806,  1.1768, -0.4254,  1.5429]]])"
      ]
     },
     "execution_count": 38,
     "metadata": {},
     "output_type": "execute_result"
    }
   ],
   "source": [
    "a"
   ]
  },
  {
   "cell_type": "code",
   "execution_count": 39,
   "metadata": {},
   "outputs": [
    {
     "data": {
      "text/plain": [
       "tensor(0.6230)"
      ]
     },
     "execution_count": 39,
     "metadata": {},
     "output_type": "execute_result"
    }
   ],
   "source": [
    "a[0][0][0] "
   ]
  },
  {
   "cell_type": "code",
   "execution_count": 40,
   "metadata": {},
   "outputs": [
    {
     "data": {
      "text/plain": [
       "tensor(0.6230)"
      ]
     },
     "execution_count": 40,
     "metadata": {},
     "output_type": "execute_result"
    }
   ],
   "source": [
    "c[0][0]"
   ]
  },
  {
   "cell_type": "code",
   "execution_count": 41,
   "metadata": {},
   "outputs": [
    {
     "name": "stdout",
     "output_type": "stream",
     "text": [
      "tensor(10.)\n"
     ]
    }
   ],
   "source": [
    "c[0][0] = 10\n",
    "print(c[0][0])"
   ]
  },
  {
   "cell_type": "code",
   "execution_count": 42,
   "metadata": {},
   "outputs": [
    {
     "data": {
      "text/plain": [
       "tensor([[ 1.0000e+01, -2.5350e-01, -6.3271e-01],\n",
       "        [ 2.1786e-01,  1.7053e-01, -1.2515e-01],\n",
       "        [-8.8629e-01, -2.7844e-01,  1.4400e+00],\n",
       "        [-1.8437e-01, -5.7556e-01, -3.4351e-01],\n",
       "        [-4.8291e-01, -1.7623e-01, -4.0224e-01],\n",
       "        [-2.4110e-01, -3.4077e-01, -5.8304e-01],\n",
       "        [-8.4716e-01,  2.1824e-01,  2.9201e-01],\n",
       "        [ 8.1558e-01, -2.0618e-01,  5.8529e-01],\n",
       "        [-1.4023e-01,  6.6875e-02,  1.2398e+00],\n",
       "        [-1.2058e+00, -6.4041e-01,  5.9881e-01],\n",
       "        [ 5.6433e-01, -1.9855e+00, -2.0185e+00],\n",
       "        [ 1.3427e-01,  1.2408e+00,  7.1358e-01],\n",
       "        [ 1.5999e+00,  6.6949e-01, -6.3898e-01],\n",
       "        [ 4.3960e-01, -1.6188e+00,  1.4857e+00],\n",
       "        [ 1.3700e+00, -2.8871e+00,  3.2801e-01],\n",
       "        [ 7.1380e-01, -8.9650e-01, -5.2381e-01],\n",
       "        [ 1.1967e+00, -6.0176e-02, -3.3749e-01],\n",
       "        [-1.8995e-01, -1.7171e+00, -2.7598e-01],\n",
       "        [-1.8637e+00,  9.5876e-01,  9.5681e-01],\n",
       "        [-1.3939e-01, -4.6369e-01,  6.5484e-02],\n",
       "        [ 1.0389e+00,  3.9203e-01,  5.8287e-01],\n",
       "        [ 1.2512e+00,  1.4901e-02,  5.2839e-02],\n",
       "        [ 9.7163e-01,  2.2114e-01, -8.7247e-01],\n",
       "        [ 5.1996e-01, -7.7008e-01, -7.0063e-01],\n",
       "        [ 1.1537e+00,  5.4184e-03, -5.2894e-01],\n",
       "        [ 4.6834e-01, -5.4465e-01, -3.2920e-01],\n",
       "        [-9.8323e-01, -4.6873e-02, -6.5513e-01],\n",
       "        [-2.7911e-01,  3.8217e-01, -8.4759e-01],\n",
       "        [ 1.3836e+00, -1.0871e+00,  8.8059e-01],\n",
       "        [ 1.1768e+00, -4.2539e-01,  1.5429e+00]])"
      ]
     },
     "execution_count": 42,
     "metadata": {},
     "output_type": "execute_result"
    }
   ],
   "source": [
    "c"
   ]
  },
  {
   "cell_type": "code",
   "execution_count": 43,
   "metadata": {},
   "outputs": [
    {
     "data": {
      "text/plain": [
       "tensor([[[ 1.0000e+01, -2.5350e-01, -6.3271e-01,  2.1786e-01,  1.7053e-01],\n",
       "         [-1.2515e-01, -8.8629e-01, -2.7844e-01,  1.4400e+00, -1.8437e-01],\n",
       "         [-5.7556e-01, -3.4351e-01, -4.8291e-01, -1.7623e-01, -4.0224e-01],\n",
       "         [-2.4110e-01, -3.4077e-01, -5.8304e-01, -8.4716e-01,  2.1824e-01],\n",
       "         [ 2.9201e-01,  8.1558e-01, -2.0618e-01,  5.8529e-01, -1.4023e-01],\n",
       "         [ 6.6875e-02,  1.2398e+00, -1.2058e+00, -6.4041e-01,  5.9881e-01]],\n",
       "\n",
       "        [[ 5.6433e-01, -1.9855e+00, -2.0185e+00,  1.3427e-01,  1.2408e+00],\n",
       "         [ 7.1358e-01,  1.5999e+00,  6.6949e-01, -6.3898e-01,  4.3960e-01],\n",
       "         [-1.6188e+00,  1.4857e+00,  1.3700e+00, -2.8871e+00,  3.2801e-01],\n",
       "         [ 7.1380e-01, -8.9650e-01, -5.2381e-01,  1.1967e+00, -6.0176e-02],\n",
       "         [-3.3749e-01, -1.8995e-01, -1.7171e+00, -2.7598e-01, -1.8637e+00],\n",
       "         [ 9.5876e-01,  9.5681e-01, -1.3939e-01, -4.6369e-01,  6.5484e-02]],\n",
       "\n",
       "        [[ 1.0389e+00,  3.9203e-01,  5.8287e-01,  1.2512e+00,  1.4901e-02],\n",
       "         [ 5.2839e-02,  9.7163e-01,  2.2114e-01, -8.7247e-01,  5.1996e-01],\n",
       "         [-7.7008e-01, -7.0063e-01,  1.1537e+00,  5.4184e-03, -5.2894e-01],\n",
       "         [ 4.6834e-01, -5.4465e-01, -3.2920e-01, -9.8323e-01, -4.6873e-02],\n",
       "         [-6.5513e-01, -2.7911e-01,  3.8217e-01, -8.4759e-01,  1.3836e+00],\n",
       "         [-1.0871e+00,  8.8059e-01,  1.1768e+00, -4.2539e-01,  1.5429e+00]]])"
      ]
     },
     "execution_count": 43,
     "metadata": {},
     "output_type": "execute_result"
    }
   ],
   "source": [
    "a"
   ]
  },
  {
   "cell_type": "code",
   "execution_count": 44,
   "metadata": {},
   "outputs": [
    {
     "data": {
      "text/plain": [
       "tensor([[ 1.0000e+01, -2.5350e-01, -6.3271e-01],\n",
       "        [ 2.1786e-01,  1.7053e-01, -1.2515e-01],\n",
       "        [-8.8629e-01, -2.7844e-01,  1.4400e+00],\n",
       "        [-1.8437e-01, -5.7556e-01, -3.4351e-01],\n",
       "        [-4.8291e-01, -1.7623e-01, -4.0224e-01],\n",
       "        [-2.4110e-01, -3.4077e-01, -5.8304e-01],\n",
       "        [-8.4716e-01,  2.1824e-01,  2.9201e-01],\n",
       "        [ 8.1558e-01, -2.0618e-01,  5.8529e-01],\n",
       "        [-1.4023e-01,  6.6875e-02,  1.2398e+00],\n",
       "        [-1.2058e+00, -6.4041e-01,  5.9881e-01],\n",
       "        [ 5.6433e-01, -1.9855e+00, -2.0185e+00],\n",
       "        [ 1.3427e-01,  1.2408e+00,  7.1358e-01],\n",
       "        [ 1.5999e+00,  6.6949e-01, -6.3898e-01],\n",
       "        [ 4.3960e-01, -1.6188e+00,  1.4857e+00],\n",
       "        [ 1.3700e+00, -2.8871e+00,  3.2801e-01],\n",
       "        [ 7.1380e-01, -8.9650e-01, -5.2381e-01],\n",
       "        [ 1.1967e+00, -6.0176e-02, -3.3749e-01],\n",
       "        [-1.8995e-01, -1.7171e+00, -2.7598e-01],\n",
       "        [-1.8637e+00,  9.5876e-01,  9.5681e-01],\n",
       "        [-1.3939e-01, -4.6369e-01,  6.5484e-02],\n",
       "        [ 1.0389e+00,  3.9203e-01,  5.8287e-01],\n",
       "        [ 1.2512e+00,  1.4901e-02,  5.2839e-02],\n",
       "        [ 9.7163e-01,  2.2114e-01, -8.7247e-01],\n",
       "        [ 5.1996e-01, -7.7008e-01, -7.0063e-01],\n",
       "        [ 1.1537e+00,  5.4184e-03, -5.2894e-01],\n",
       "        [ 4.6834e-01, -5.4465e-01, -3.2920e-01],\n",
       "        [-9.8323e-01, -4.6873e-02, -6.5513e-01],\n",
       "        [-2.7911e-01,  3.8217e-01, -8.4759e-01],\n",
       "        [ 1.3836e+00, -1.0871e+00,  8.8059e-01],\n",
       "        [ 1.1768e+00, -4.2539e-01,  1.5429e+00]])"
      ]
     },
     "execution_count": 44,
     "metadata": {},
     "output_type": "execute_result"
    }
   ],
   "source": [
    "b"
   ]
  },
  {
   "cell_type": "code",
   "execution_count": 45,
   "metadata": {},
   "outputs": [],
   "source": [
    "a = torch.randn(1, 2, 3, 4)"
   ]
  },
  {
   "cell_type": "code",
   "execution_count": 46,
   "metadata": {},
   "outputs": [
    {
     "name": "stdout",
     "output_type": "stream",
     "text": [
      "torch.Size([1, 3, 2, 4])\n"
     ]
    }
   ],
   "source": [
    "b = a.transpose(1, 2)\n",
    "print(b.shape)"
   ]
  },
  {
   "cell_type": "code",
   "execution_count": 47,
   "metadata": {},
   "outputs": [
    {
     "data": {
      "text/plain": [
       "True"
      ]
     },
     "execution_count": 47,
     "metadata": {},
     "output_type": "execute_result"
    }
   ],
   "source": [
    "a.is_contiguous()"
   ]
  },
  {
   "cell_type": "code",
   "execution_count": 48,
   "metadata": {},
   "outputs": [
    {
     "data": {
      "text/plain": [
       "False"
      ]
     },
     "execution_count": 48,
     "metadata": {},
     "output_type": "execute_result"
    }
   ],
   "source": [
    "b.is_contiguous()"
   ]
  },
  {
   "cell_type": "code",
   "execution_count": 51,
   "metadata": {},
   "outputs": [],
   "source": [
    "c = b.reshape(1, 2, 3, 4)"
   ]
  },
  {
   "cell_type": "code",
   "execution_count": 53,
   "metadata": {},
   "outputs": [],
   "source": [
    "b[0][0][0][0] = 10 "
   ]
  },
  {
   "cell_type": "code",
   "execution_count": 54,
   "metadata": {},
   "outputs": [
    {
     "data": {
      "text/plain": [
       "tensor([[[[10.0000, -0.2882,  0.6770, -0.5260],\n",
       "          [ 0.2297, -1.9821, -0.9234, -1.2773]],\n",
       "\n",
       "         [[ 0.9998, -1.0288,  1.9755,  0.1396],\n",
       "          [ 1.9039, -0.9955, -0.0840, -0.1360]],\n",
       "\n",
       "         [[ 1.2485,  1.1290,  1.7642, -0.9494],\n",
       "          [ 0.3976,  0.8728, -0.2925, -0.5866]]]])"
      ]
     },
     "execution_count": 54,
     "metadata": {},
     "output_type": "execute_result"
    }
   ],
   "source": [
    "b"
   ]
  },
  {
   "cell_type": "code",
   "execution_count": 55,
   "metadata": {},
   "outputs": [
    {
     "data": {
      "text/plain": [
       "tensor([[[[-1.0081, -0.2882,  0.6770, -0.5260],\n",
       "          [ 0.2297, -1.9821, -0.9234, -1.2773],\n",
       "          [ 0.9998, -1.0288,  1.9755,  0.1396]],\n",
       "\n",
       "         [[ 1.9039, -0.9955, -0.0840, -0.1360],\n",
       "          [ 1.2485,  1.1290,  1.7642, -0.9494],\n",
       "          [ 0.3976,  0.8728, -0.2925, -0.5866]]]])"
      ]
     },
     "execution_count": 55,
     "metadata": {},
     "output_type": "execute_result"
    }
   ],
   "source": [
    "c"
   ]
  }
 ],
 "metadata": {
  "kernelspec": {
   "display_name": "aialone",
   "language": "python",
   "name": "python3"
  },
  "language_info": {
   "codemirror_mode": {
    "name": "ipython",
    "version": 3
   },
   "file_extension": ".py",
   "mimetype": "text/x-python",
   "name": "python",
   "nbconvert_exporter": "python",
   "pygments_lexer": "ipython3",
   "version": "3.8.16"
  }
 },
 "nbformat": 4,
 "nbformat_minor": 2
}
